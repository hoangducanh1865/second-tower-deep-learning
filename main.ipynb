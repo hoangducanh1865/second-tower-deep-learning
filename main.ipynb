{
 "cells": [
  {
   "cell_type": "code",
   "execution_count": 7,
   "id": "c9852be1",
   "metadata": {},
   "outputs": [
    {
     "name": "stdout",
     "output_type": "stream",
     "text": [
      "lỗi nghiêm trọng: đường dẫn đích 'second-tower-deep-learning' đã có từ trước và không phải là một thư mục rỗng.\n"
     ]
    }
   ],
   "source": [
    "!git clone https://github.com/hoangducanh1865/second-tower-deep-learning"
   ]
  },
  {
   "cell_type": "code",
   "execution_count": 1,
   "id": "b17d0486",
   "metadata": {},
   "outputs": [
    {
     "name": "stdout",
     "output_type": "stream",
     "text": [
      "[Errno 2] No such file or directory: 'second-tower-deep-learning'\n",
      "/Users/apple/tower-challenge/second-tower-deep-learning\n",
      "Đã cập nhật rồi.\n",
      "/Users/apple/tower-challenge\n"
     ]
    }
   ],
   "source": [
    "'''\n",
    "git config user.name \n",
    "git config user.email\n",
    "git remote -v \n",
    "git branch \n",
    "\n",
    "git status\n",
    "\n",
    "git add . \n",
    "\n",
    "git pugit commit -m “Update”\n",
    "git push -u origin main \n",
    "git reset --mixed HEAD~1\n",
    "\n",
    "sh origin HEAD --force\n",
    "'''\n",
    "\n",
    "%cd second-tower-deep-learning\n",
    "!git pull \n",
    "%cd .."
   ]
  },
  {
   "cell_type": "code",
   "execution_count": 12,
   "id": "a4d2fc82",
   "metadata": {},
   "outputs": [
    {
     "name": "stdout",
     "output_type": "stream",
     "text": [
      "torch.Size([32, 1, 64, 64]) torch.float32 torch.Size([32]) torch.int64\n",
      "<Figure size 350x250 with 1 Axes>\n",
      "<Figure size 350x250 with 1 Axes>\n",
      "<Figure size 350x250 with 1 Axes>\n",
      "<Figure size 350x250 with 1 Axes>\n",
      "<Figure size 350x250 with 1 Axes>\n",
      "<Figure size 350x250 with 1 Axes>\n",
      "<Figure size 350x250 with 1 Axes>\n",
      "<Figure size 350x250 with 1 Axes>\n",
      "<Figure size 350x250 with 1 Axes>\n",
      "<Figure size 350x250 with 1 Axes>\n",
      "Traceback (most recent call last):\n",
      "  File \"second-tower-deep-learning/main.py\", line 36, in <module>\n",
      "    f.train_ch3(net, train_iter, test_iter, cross_entropy, num_epochs, updater)\n",
      "  File \"/Users/apple/tower-challenge/second-tower-deep-learning/save/function.py\", line 201, in train_ch3\n",
      "    assert train_loss < 0.5, train_loss\n",
      "AssertionError: 1.1646843784858782\n"
     ]
    }
   ],
   "source": [
    "%matplotlib inline\n",
    "!python second-tower-deep-learning/main.py"
   ]
  }
 ],
 "metadata": {
  "kernelspec": {
   "display_name": "Python 3 (ipykernel)",
   "language": "python",
   "name": "python3"
  },
  "language_info": {
   "codemirror_mode": {
    "name": "ipython",
    "version": 3
   },
   "file_extension": ".py",
   "mimetype": "text/x-python",
   "name": "python",
   "nbconvert_exporter": "python",
   "pygments_lexer": "ipython3",
   "version": "3.8.20"
  }
 },
 "nbformat": 4,
 "nbformat_minor": 5
}
