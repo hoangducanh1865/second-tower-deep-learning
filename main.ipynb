{
 "cells": [
  {
   "cell_type": "code",
   "execution_count": 3,
   "id": "c9852be1",
   "metadata": {},
   "outputs": [
    {
     "name": "stdout",
     "output_type": "stream",
     "text": [
      "Cloning into 'second-tower-deep-learning'...\n",
      "remote: Enumerating objects: 22, done.\u001b[K\n",
      "remote: Counting objects: 100% (22/22), done.\u001b[K\n",
      "remote: Compressing objects: 100% (15/15), done.\u001b[K\n",
      "remote: Total 22 (delta 4), reused 14 (delta 2), pack-reused 0 (from 0)\u001b[K\n",
      "Receiving objects: 100% (22/22), 6.58 KiB | 2.19 MiB/s, done.\n",
      "Resolving deltas: 100% (4/4), done.\n"
     ]
    }
   ],
   "source": [
    "!git clone https://github.com/hoangducanh1865/second-tower-deep-learning"
   ]
  },
  {
   "cell_type": "code",
   "execution_count": 19,
   "id": "b17d0486",
   "metadata": {},
   "outputs": [
    {
     "name": "stdout",
     "output_type": "stream",
     "text": [
      "/kaggle/second-tower-deep-learning\n",
      "remote: Enumerating objects: 11, done.\u001b[K\n",
      "remote: Counting objects: 100% (11/11), done.\u001b[K\n",
      "remote: Compressing objects: 100% (1/1), done.\u001b[K\n",
      "remote: Total 6 (delta 3), reused 6 (delta 3), pack-reused 0 (from 0)\u001b[K\n",
      "Unpacking objects: 100% (6/6), 1020 bytes | 510.00 KiB/s, done.\n",
      "From https://github.com/hoangducanh1865/second-tower-deep-learning\n",
      "   282b821..763ee7b  main       -> origin/main\n",
      "Updating 282b821..763ee7b\n",
      "Fast-forward\n",
      " main.ipynb           | 64 \u001b[32m++++++++++++++++++++++++++++++++++++++++++++\u001b[m\u001b[31m--------\u001b[m\n",
      " src/config/config.py |  3 \u001b[32m++\u001b[m\u001b[31m-\u001b[m\n",
      " 2 files changed, 56 insertions(+), 11 deletions(-)\n",
      "/kaggle\n"
     ]
    }
   ],
   "source": [
    "'''\n",
    "git config user.name \n",
    "git config user.email\n",
    "git remote -v \n",
    "git branch \n",
    "\n",
    "git status\n",
    "\n",
    "git add . \n",
    "git commit -m “Update”\n",
    "git push -u origin main \n",
    "\n",
    "git reset --mixed HEAD~1\n",
    "git push origin HEAD --force\n",
    "'''\n",
    "\n",
    "%cd second-tower-deep-learning\n",
    "!git pull \n",
    "%cd .."
   ]
  },
  {
   "cell_type": "code",
   "execution_count": 21,
   "id": "a4d2fc82",
   "metadata": {},
   "outputs": [
    {
     "name": "stdout",
     "output_type": "stream",
     "text": [
      "epoch 1, loss 0.028395\n",
      "epoch 2, loss 0.000099\n",
      "epoch 3, loss 0.000052\n",
      "Estimated w: tensor([ 2.0004, -3.3998], grad_fn=<ViewBackward0>)\n",
      "Estimated b: tensor([4.1997], requires_grad=True)\n",
      "Error in estimating w: tensor([-0.0004, -0.0002], grad_fn=<SubBackward0>)\n",
      "Error in estimating b: tensor([0.0003], grad_fn=<RsubBackward1>)\n"
     ]
    }
   ],
   "source": [
    "!python second-tower-deep-learning/main.py"
   ]
  },
  {
   "cell_type": "code",
   "execution_count": 20,
   "id": "a5b8a37c",
   "metadata": {},
   "outputs": [
    {
     "name": "stdout",
     "output_type": "stream",
     "text": [
      "cuda\n"
     ]
    }
   ],
   "source": [
    "!python second-tower-deep-learning/src/config/config.py"
   ]
  }
 ],
 "metadata": {
  "kernelspec": {
   "display_name": "Python 3 (ipykernel)",
   "language": "python",
   "name": "python3"
  },
  "language_info": {
   "codemirror_mode": {
    "name": "ipython",
    "version": 3
   },
   "file_extension": ".py",
   "mimetype": "text/x-python",
   "name": "python",
   "nbconvert_exporter": "python",
   "pygments_lexer": "ipython3",
   "version": "3.11.13"
  }
 },
 "nbformat": 4,
 "nbformat_minor": 5
}
