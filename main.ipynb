{
 "cells": [
  {
   "cell_type": "code",
   "execution_count": 7,
   "id": "c9852be1",
   "metadata": {},
   "outputs": [
    {
     "name": "stdout",
     "output_type": "stream",
     "text": [
      "lỗi nghiêm trọng: đường dẫn đích 'second-tower-deep-learning' đã có từ trước và không phải là một thư mục rỗng.\n"
     ]
    }
   ],
   "source": [
    "!git clone https://github.com/hoangducanh1865/second-tower-deep-learning"
   ]
  },
  {
   "cell_type": "code",
   "execution_count": 5,
   "id": "b17d0486",
   "metadata": {},
   "outputs": [
    {
     "name": "stdout",
     "output_type": "stream",
     "text": [
      "/Users/apple/tower-challenge/second-tower-deep-learning\n",
      "Đã cập nhật rồi.\n",
      "/Users/apple/tower-challenge\n"
     ]
    }
   ],
   "source": [
    "'''\n",
    "git config user.name \n",
    "git config user.email\n",
    "git remote -v \n",
    "git branch \n",
    "\n",
    "git status\n",
    "\n",
    "git add . \n",
    "git commit -m “Update”\n",
    "git push -u origin main \n",
    "\n",
    "git reset --mixed HEAD~1\n",
    "git push origin HEAD --force\n",
    "'''\n",
    "\n",
    "%cd second-tower-deep-learning\n",
    "!git pull \n",
    "%cd .."
   ]
  },
  {
   "cell_type": "code",
   "execution_count": 6,
   "id": "a4d2fc82",
   "metadata": {},
   "outputs": [
    {
     "name": "stdout",
     "output_type": "stream",
     "text": [
      "epoch 1, loss 0.046564\n",
      "epoch 2, loss 0.000185\n",
      "epoch 3, loss 0.000045\n",
      "Estimated w: tensor([ 1.9998, -3.3999])\n",
      "Estimated b: 4.199418067932129\n"
     ]
    }
   ],
   "source": [
    "!python second-tower-deep-learning/main.py"
   ]
  }
 ],
 "metadata": {
  "kernelspec": {
   "display_name": "Python 3 (ipykernel)",
   "language": "python",
   "name": "python3"
  },
  "language_info": {
   "codemirror_mode": {
    "name": "ipython",
    "version": 3
   },
   "file_extension": ".py",
   "mimetype": "text/x-python",
   "name": "python",
   "nbconvert_exporter": "python",
   "pygments_lexer": "ipython3",
   "version": "3.10.18"
  }
 },
 "nbformat": 4,
 "nbformat_minor": 5
}
