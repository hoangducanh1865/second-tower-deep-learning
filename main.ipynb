{
 "cells": [
  {
   "cell_type": "code",
   "execution_count": 3,
   "id": "c9852be1",
   "metadata": {},
   "outputs": [
    {
     "name": "stdout",
     "output_type": "stream",
     "text": [
      "Cloning into 'second-tower-deep-learning'...\n",
      "remote: Enumerating objects: 15, done.\u001b[K\n",
      "remote: Counting objects: 100% (15/15), done.\u001b[K\n",
      "remote: Compressing objects: 100% (9/9), done.\u001b[K\n",
      "remote: Total 15 (delta 1), reused 9 (delta 1), pack-reused 0 (from 0)\u001b[K\n",
      "Receiving objects: 100% (15/15), 4.88 KiB | 2.44 MiB/s, done.\n",
      "Resolving deltas: 100% (1/1), done.\n"
     ]
    }
   ],
   "source": [
    "!git clone https://github.com/hoangducanh1865/second-tower-deep-learning"
   ]
  },
  {
   "cell_type": "code",
   "execution_count": null,
   "id": "b17d0486",
   "metadata": {},
   "outputs": [],
   "source": [
    "'''\n",
    "git config user.name \n",
    "git config user.email\n",
    "git remote -v \n",
    "git branch \n",
    "\n",
    "git status\n",
    "\n",
    "git add . \n",
    "git commit -m “Update”\n",
    "git push -u origin main \n",
    "\n",
    "git reset --mixed HEAD~1\n",
    "git push origin HEAD --force\n",
    "'''\n",
    "\n",
    "%cd second-tower-deep-learning\n",
    "!git pull \n",
    "%cd .."
   ]
  },
  {
   "cell_type": "code",
   "execution_count": 4,
   "id": "a4d2fc82",
   "metadata": {},
   "outputs": [],
   "source": [
    "!python second-tower-deep-learning/main.py"
   ]
  }
 ],
 "metadata": {
  "kernelspec": {
   "display_name": "Python 3 (ipykernel)",
   "language": "python",
   "name": "python3"
  },
  "language_info": {
   "codemirror_mode": {
    "name": "ipython",
    "version": 3
   },
   "file_extension": ".py",
   "mimetype": "text/x-python",
   "name": "python",
   "nbconvert_exporter": "python",
   "pygments_lexer": "ipython3",
   "version": "3.11.13"
  }
 },
 "nbformat": 4,
 "nbformat_minor": 5
}
