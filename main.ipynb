{
 "cells": [
  {
   "cell_type": "code",
   "execution_count": 3,
   "id": "c9852be1",
   "metadata": {},
   "outputs": [
    {
     "name": "stdout",
     "output_type": "stream",
     "text": [
      "Cloning into 'second-tower-deep-learning'...\n",
      "remote: Enumerating objects: 22, done.\u001b[K\n",
      "remote: Counting objects: 100% (22/22), done.\u001b[K\n",
      "remote: Compressing objects: 100% (15/15), done.\u001b[K\n",
      "remote: Total 22 (delta 4), reused 14 (delta 2), pack-reused 0 (from 0)\u001b[K\n",
      "Receiving objects: 100% (22/22), 6.58 KiB | 2.19 MiB/s, done.\n",
      "Resolving deltas: 100% (4/4), done.\n"
     ]
    }
   ],
   "source": [
    "!git clone https://github.com/hoangducanh1865/second-tower-deep-learning"
   ]
  },
  {
   "cell_type": "code",
   "execution_count": 16,
   "id": "b17d0486",
   "metadata": {},
   "outputs": [
    {
     "name": "stdout",
     "output_type": "stream",
     "text": [
      "/kaggle/second-tower-deep-learning\n",
      "remote: Enumerating objects: 5, done.\u001b[K\n",
      "remote: Counting objects: 100% (5/5), done.\u001b[K\n",
      "remote: Compressing objects: 100% (2/2), done.\u001b[K\n",
      "remote: Total 3 (delta 1), reused 3 (delta 1), pack-reused 0 (from 0)\u001b[K\n",
      "Unpacking objects: 100% (3/3), 1.11 KiB | 1.11 MiB/s, done.\n",
      "From https://github.com/hoangducanh1865/second-tower-deep-learning\n",
      "   4104b12..282b821  main       -> origin/main\n",
      "Updating 4104b12..282b821\n",
      "Fast-forward\n",
      " main.py | 88 \u001b[32m++++++++++++++++++++++++++++++++\u001b[m\u001b[31m---------------------------------\u001b[m\n",
      " 1 file changed, 44 insertions(+), 44 deletions(-)\n",
      "/kaggle\n"
     ]
    }
   ],
   "source": [
    "'''\n",
    "git config user.name \n",
    "git config user.email\n",
    "git remote -v \n",
    "git branch \n",
    "\n",
    "git status\n",
    "\n",
    "git add . \n",
    "git commit -m “Update”\n",
    "git push -u origin main \n",
    "\n",
    "git reset --mixed HEAD~1\n",
    "git push origin HEAD --force\n",
    "'''\n",
    "\n",
    "%cd second-tower-deep-learning\n",
    "!git pull \n",
    "%cd .."
   ]
  },
  {
   "cell_type": "code",
   "execution_count": 17,
   "id": "a4d2fc82",
   "metadata": {},
   "outputs": [
    {
     "name": "stdout",
     "output_type": "stream",
     "text": [
      "epoch 1, loss 0.047214\n",
      "epoch 2, loss 0.000196\n",
      "epoch 3, loss 0.000052\n",
      "Estimated w: tensor([ 1.9993, -3.3995], grad_fn=<ViewBackward0>)\n",
      "Estimated b: tensor([4.2003], requires_grad=True)\n",
      "Error in estimating w: tensor([ 0.0007, -0.0005], grad_fn=<SubBackward0>)\n",
      "Error in estimating b: tensor([-0.0003], grad_fn=<RsubBackward1>)\n"
     ]
    }
   ],
   "source": [
    "!python second-tower-deep-learning/main.py"
   ]
  },
  {
   "cell_type": "code",
   "execution_count": 18,
   "id": "a5b8a37c",
   "metadata": {},
   "outputs": [],
   "source": [
    "!python second-tower-deep-learning/src/config/config.py"
   ]
  }
 ],
 "metadata": {
  "kernelspec": {
   "display_name": "Python 3 (ipykernel)",
   "language": "python",
   "name": "python3"
  },
  "language_info": {
   "codemirror_mode": {
    "name": "ipython",
    "version": 3
   },
   "file_extension": ".py",
   "mimetype": "text/x-python",
   "name": "python",
   "nbconvert_exporter": "python",
   "pygments_lexer": "ipython3",
   "version": "3.11.13"
  }
 },
 "nbformat": 4,
 "nbformat_minor": 5
}
