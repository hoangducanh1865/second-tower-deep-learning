{
 "cells": [
  {
   "cell_type": "code",
   "execution_count": 2,
   "id": "fc9d8876",
   "metadata": {},
   "outputs": [],
   "source": [
    "import torch\n",
    "from torch import nn\n",
    "from torch.nn import functional as F"
   ]
  },
  {
   "cell_type": "code",
   "execution_count": 5,
   "id": "b724e9d5",
   "metadata": {},
   "outputs": [
    {
     "name": "stdout",
     "output_type": "stream",
     "text": [
      "tensor([-2., -1.,  0.,  1.,  2.])\n"
     ]
    }
   ],
   "source": [
    "class CenteredLayer(nn.Module):\n",
    "    def __init__(self):\n",
    "        super().__init__()\n",
    "\n",
    "    def forward (self, X):\n",
    "        return X - X.mean()\n",
    "    \n",
    "\n",
    "layer = CenteredLayer()\n",
    "res = layer(torch.FloatTensor([1, 2, 3, 4, 5]))\n",
    "print(res)"
   ]
  },
  {
   "cell_type": "code",
   "execution_count": null,
   "id": "fdef079c",
   "metadata": {},
   "outputs": [
    {
     "name": "stdout",
     "output_type": "stream",
     "text": [
      "Network0 tensor([[-0.3168,  0.5355,  1.5844,  1.4004,  0.4885, -0.1448,  0.8560,  1.5220,\n",
      "          0.0178, -0.8563],\n",
      "        [ 0.5834, -0.4949, -0.3229, -0.2458,  0.1818,  0.3667,  0.1636,  0.0492,\n",
      "         -0.3333,  0.1863],\n",
      "        [-0.3046, -1.2474,  0.1836,  0.3933,  0.2722,  0.7804, -0.0867,  0.5469,\n",
      "          0.1282, -0.1545],\n",
      "        [ 0.2808, -1.4625, -0.9358,  0.6853, -0.0226,  1.5492, -0.2773, -0.5542,\n",
      "          0.7626,  0.2564],\n",
      "        [-0.2726, -0.2697,  1.0586,  0.2889,  0.4907, -0.0787,  0.4273,  1.2952,\n",
      "         -0.4522, -0.4570]], grad_fn=<AddmmBackward0>) \n",
      "\n",
      "tensor(0.1609, grad_fn=<MeanBackward0>)\n",
      "Network1 tensor([[-0.4777,  0.3746,  1.4235,  1.2395,  0.3276, -0.3057,  0.6951,  1.3611,\n",
      "         -0.1431, -1.0172],\n",
      "        [ 0.4225, -0.6557, -0.4838, -0.4067,  0.0210,  0.2058,  0.0027, -0.1117,\n",
      "         -0.4942,  0.0254],\n",
      "        [-0.4655, -1.4082,  0.0227,  0.2325,  0.1113,  0.6195, -0.2476,  0.3860,\n",
      "         -0.0327, -0.3154],\n",
      "        [ 0.1199, -1.6234, -1.0967,  0.5244, -0.1835,  1.3883, -0.4382, -0.7151,\n",
      "          0.6017,  0.0955],\n",
      "        [-0.4335, -0.4306,  0.8978,  0.1280,  0.3298, -0.2396,  0.2664,  1.1344,\n",
      "         -0.6131, -0.6179]], grad_fn=<SubBackward0>)\n"
     ]
    }
   ],
   "source": [
    "net = nn.Sequential(nn.Linear(4, 10))\n",
    "Y = net(torch.randn(5,4))\n",
    "Y1 = CenteredLayer()(Y)\n",
    "print(\"Network0\", Y, \"\\n\")\n",
    "print (Y.mean(), \"\\n\")\n",
    "print(\"Network1\", Y1)"
   ]
  },
  {
   "cell_type": "code",
   "execution_count": 11,
   "id": "326b1c7d",
   "metadata": {},
   "outputs": [
    {
     "name": "stdout",
     "output_type": "stream",
     "text": [
      "Parameter containing:\n",
      "tensor([[ 0.5750, -1.3687, -0.2861],\n",
      "        [-0.0911,  0.9327, -1.0681],\n",
      "        [-0.6827, -0.1331,  0.1352],\n",
      "        [ 0.2203, -0.7335, -0.2411],\n",
      "        [ 1.2612, -0.5088,  1.2597]], requires_grad=True)\n"
     ]
    }
   ],
   "source": [
    "class MyLinear(nn.Module):\n",
    "    def __init__(self, input, out):\n",
    "        super().__init__()\n",
    "        self.weight = nn.Parameter(torch.randn(input, out))\n",
    "        self.bias = nn.Parameter(torch.randn(out))\n",
    "    \n",
    "    def forward(self, X):\n",
    "        linear = torch.matmul(X, self.weight.data) + self.bias.data\n",
    "        return F.relu(linear)\n",
    "    \n",
    "linear = MyLinear(5, 3)\n",
    "print(linear.weight)"
   ]
  },
  {
   "cell_type": "code",
   "execution_count": 21,
   "id": "3d4b4979",
   "metadata": {},
   "outputs": [
    {
     "data": {
      "text/plain": [
       "tensor([[1.8461],\n",
       "        [0.0000]])"
      ]
     },
     "execution_count": 21,
     "metadata": {},
     "output_type": "execute_result"
    }
   ],
   "source": [
    "net = nn.Sequential(MyLinear(64, 8), MyLinear(8, 1))\n",
    "net(torch.randn(2, 64))"
   ]
  }
 ],
 "metadata": {
  "kernelspec": {
   "display_name": "d2l",
   "language": "python",
   "name": "python3"
  },
  "language_info": {
   "codemirror_mode": {
    "name": "ipython",
    "version": 3
   },
   "file_extension": ".py",
   "mimetype": "text/x-python",
   "name": "python",
   "nbconvert_exporter": "python",
   "pygments_lexer": "ipython3",
   "version": "3.8.18"
  }
 },
 "nbformat": 4,
 "nbformat_minor": 5
}
